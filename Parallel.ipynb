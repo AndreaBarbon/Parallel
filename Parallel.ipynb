{
 "cells": [
  {
   "cell_type": "markdown",
   "metadata": {},
   "source": [
    "#### Import the ipyparallel module and connect to the clusters"
   ]
  },
  {
   "cell_type": "code",
   "execution_count": 1,
   "metadata": {
    "collapsed": true
   },
   "outputs": [],
   "source": [
    "import ipyparallel as ipp\n",
    "client = ipp.Client()\n",
    "lview  = client.load_balanced_view()\n",
    "lview.block = True\n",
    "CORES = len(client[:])\n",
    "for i in range(0,CORES):\n",
    "    client[i].push(dict(i=i))"
   ]
  },
  {
   "cell_type": "markdown",
   "metadata": {},
   "source": [
    "#### Import pandas and numpy, both locally and on the clusters"
   ]
  },
  {
   "cell_type": "code",
   "execution_count": 2,
   "metadata": {
    "collapsed": false
   },
   "outputs": [],
   "source": [
    "%%px --local\n",
    "import pandas as pd\n",
    "import numpy  as np"
   ]
  },
  {
   "cell_type": "markdown",
   "metadata": {},
   "source": [
    "#### Import some data from a csv file"
   ]
  },
  {
   "cell_type": "code",
   "execution_count": 5,
   "metadata": {
    "collapsed": false
   },
   "outputs": [
    {
     "name": "stdout",
     "output_type": "stream",
     "text": [
      "Wall time: 3.67 s\n"
     ]
    }
   ],
   "source": [
    "%%time\n",
    "raw = pd.read_csv('Stocks.zip', parse_dates=['date'], compression='zip')"
   ]
  },
  {
   "cell_type": "markdown",
   "metadata": {},
   "source": [
    "Let's have a look:"
   ]
  },
  {
   "cell_type": "code",
   "execution_count": 6,
   "metadata": {
    "collapsed": false
   },
   "outputs": [
    {
     "data": {
      "text/html": [
       "<div>\n",
       "<table border=\"1\" class=\"dataframe\">\n",
       "  <thead>\n",
       "    <tr style=\"text-align: right;\">\n",
       "      <th></th>\n",
       "      <th>Unnamed: 0</th>\n",
       "      <th>stock</th>\n",
       "      <th>date</th>\n",
       "      <th>close</th>\n",
       "      <th>turnover</th>\n",
       "      <th>cap</th>\n",
       "    </tr>\n",
       "  </thead>\n",
       "  <tbody>\n",
       "    <tr>\n",
       "      <th>0</th>\n",
       "      <td>0</td>\n",
       "      <td>9983.T</td>\n",
       "      <td>2014-11-20</td>\n",
       "      <td>42845.0</td>\n",
       "      <td>4456.322944</td>\n",
       "      <td>4544740.53</td>\n",
       "    </tr>\n",
       "    <tr>\n",
       "      <th>1</th>\n",
       "      <td>1</td>\n",
       "      <td>9983.T</td>\n",
       "      <td>2015-07-29</td>\n",
       "      <td>60230.0</td>\n",
       "      <td>5275.562343</td>\n",
       "      <td>6388837.02</td>\n",
       "    </tr>\n",
       "    <tr>\n",
       "      <th>2</th>\n",
       "      <td>2</td>\n",
       "      <td>9983.T</td>\n",
       "      <td>2015-03-02</td>\n",
       "      <td>46850.0</td>\n",
       "      <td>4675.038181</td>\n",
       "      <td>4969566.90</td>\n",
       "    </tr>\n",
       "    <tr>\n",
       "      <th>3</th>\n",
       "      <td>3</td>\n",
       "      <td>9983.T</td>\n",
       "      <td>2013-08-19</td>\n",
       "      <td>32200.0</td>\n",
       "      <td>3325.979976</td>\n",
       "      <td>3415582.80</td>\n",
       "    </tr>\n",
       "    <tr>\n",
       "      <th>4</th>\n",
       "      <td>4</td>\n",
       "      <td>9983.T</td>\n",
       "      <td>2015-02-12</td>\n",
       "      <td>44305.0</td>\n",
       "      <td>4761.770085</td>\n",
       "      <td>4699608.57</td>\n",
       "    </tr>\n",
       "  </tbody>\n",
       "</table>\n",
       "</div>"
      ],
      "text/plain": [
       "   Unnamed: 0   stock       date    close     turnover         cap\n",
       "0           0  9983.T 2014-11-20  42845.0  4456.322944  4544740.53\n",
       "1           1  9983.T 2015-07-29  60230.0  5275.562343  6388837.02\n",
       "2           2  9983.T 2015-03-02  46850.0  4675.038181  4969566.90\n",
       "3           3  9983.T 2013-08-19  32200.0  3325.979976  3415582.80\n",
       "4           4  9983.T 2015-02-12  44305.0  4761.770085  4699608.57"
      ]
     },
     "execution_count": 6,
     "metadata": {},
     "output_type": "execute_result"
    }
   ],
   "source": [
    "raw.head()"
   ]
  },
  {
   "cell_type": "markdown",
   "metadata": {},
   "source": [
    "#### We want to get rid of the first column:"
   ]
  },
  {
   "cell_type": "code",
   "execution_count": 224,
   "metadata": {
    "collapsed": false
   },
   "outputs": [
    {
     "data": {
      "text/html": [
       "<div>\n",
       "<table border=\"1\" class=\"dataframe\">\n",
       "  <thead>\n",
       "    <tr style=\"text-align: right;\">\n",
       "      <th></th>\n",
       "      <th>stock</th>\n",
       "      <th>date</th>\n",
       "      <th>close</th>\n",
       "      <th>turnover</th>\n",
       "      <th>cap</th>\n",
       "    </tr>\n",
       "  </thead>\n",
       "  <tbody>\n",
       "    <tr>\n",
       "      <th>0</th>\n",
       "      <td>9983.T</td>\n",
       "      <td>2014-11-20</td>\n",
       "      <td>42845.0</td>\n",
       "      <td>4456.322944</td>\n",
       "      <td>4544740.53</td>\n",
       "    </tr>\n",
       "    <tr>\n",
       "      <th>1</th>\n",
       "      <td>9983.T</td>\n",
       "      <td>2015-07-29</td>\n",
       "      <td>60230.0</td>\n",
       "      <td>5275.562343</td>\n",
       "      <td>6388837.02</td>\n",
       "    </tr>\n",
       "    <tr>\n",
       "      <th>2</th>\n",
       "      <td>9983.T</td>\n",
       "      <td>2015-03-02</td>\n",
       "      <td>46850.0</td>\n",
       "      <td>4675.038181</td>\n",
       "      <td>4969566.90</td>\n",
       "    </tr>\n",
       "    <tr>\n",
       "      <th>3</th>\n",
       "      <td>9983.T</td>\n",
       "      <td>2013-08-19</td>\n",
       "      <td>32200.0</td>\n",
       "      <td>3325.979976</td>\n",
       "      <td>3415582.80</td>\n",
       "    </tr>\n",
       "    <tr>\n",
       "      <th>4</th>\n",
       "      <td>9983.T</td>\n",
       "      <td>2015-02-12</td>\n",
       "      <td>44305.0</td>\n",
       "      <td>4761.770085</td>\n",
       "      <td>4699608.57</td>\n",
       "    </tr>\n",
       "  </tbody>\n",
       "</table>\n",
       "</div>"
      ],
      "text/plain": [
       "    stock       date    close     turnover         cap\n",
       "0  9983.T 2014-11-20  42845.0  4456.322944  4544740.53\n",
       "1  9983.T 2015-07-29  60230.0  5275.562343  6388837.02\n",
       "2  9983.T 2015-03-02  46850.0  4675.038181  4969566.90\n",
       "3  9983.T 2013-08-19  32200.0  3325.979976  3415582.80\n",
       "4  9983.T 2015-02-12  44305.0  4761.770085  4699608.57"
      ]
     },
     "execution_count": 224,
     "metadata": {},
     "output_type": "execute_result"
    }
   ],
   "source": [
    "stocks = raw[ ['stock', 'date', 'close', 'turnover', 'cap'] ]\n",
    "stocks.head()"
   ]
  },
  {
   "cell_type": "markdown",
   "metadata": {},
   "source": [
    "#### Equivalently we could do"
   ]
  },
  {
   "cell_type": "code",
   "execution_count": 225,
   "metadata": {
    "collapsed": false
   },
   "outputs": [
    {
     "data": {
      "text/html": [
       "<div>\n",
       "<table border=\"1\" class=\"dataframe\">\n",
       "  <thead>\n",
       "    <tr style=\"text-align: right;\">\n",
       "      <th></th>\n",
       "      <th>stock</th>\n",
       "      <th>date</th>\n",
       "      <th>close</th>\n",
       "      <th>turnover</th>\n",
       "      <th>cap</th>\n",
       "    </tr>\n",
       "  </thead>\n",
       "  <tbody>\n",
       "    <tr>\n",
       "      <th>0</th>\n",
       "      <td>9983.T</td>\n",
       "      <td>2014-11-20</td>\n",
       "      <td>42845.0</td>\n",
       "      <td>4456.322944</td>\n",
       "      <td>4544740.53</td>\n",
       "    </tr>\n",
       "    <tr>\n",
       "      <th>1</th>\n",
       "      <td>9983.T</td>\n",
       "      <td>2015-07-29</td>\n",
       "      <td>60230.0</td>\n",
       "      <td>5275.562343</td>\n",
       "      <td>6388837.02</td>\n",
       "    </tr>\n",
       "    <tr>\n",
       "      <th>2</th>\n",
       "      <td>9983.T</td>\n",
       "      <td>2015-03-02</td>\n",
       "      <td>46850.0</td>\n",
       "      <td>4675.038181</td>\n",
       "      <td>4969566.90</td>\n",
       "    </tr>\n",
       "    <tr>\n",
       "      <th>3</th>\n",
       "      <td>9983.T</td>\n",
       "      <td>2013-08-19</td>\n",
       "      <td>32200.0</td>\n",
       "      <td>3325.979976</td>\n",
       "      <td>3415582.80</td>\n",
       "    </tr>\n",
       "    <tr>\n",
       "      <th>4</th>\n",
       "      <td>9983.T</td>\n",
       "      <td>2015-02-12</td>\n",
       "      <td>44305.0</td>\n",
       "      <td>4761.770085</td>\n",
       "      <td>4699608.57</td>\n",
       "    </tr>\n",
       "  </tbody>\n",
       "</table>\n",
       "</div>"
      ],
      "text/plain": [
       "    stock       date    close     turnover         cap\n",
       "0  9983.T 2014-11-20  42845.0  4456.322944  4544740.53\n",
       "1  9983.T 2015-07-29  60230.0  5275.562343  6388837.02\n",
       "2  9983.T 2015-03-02  46850.0  4675.038181  4969566.90\n",
       "3  9983.T 2013-08-19  32200.0  3325.979976  3415582.80\n",
       "4  9983.T 2015-02-12  44305.0  4761.770085  4699608.57"
      ]
     },
     "execution_count": 225,
     "metadata": {},
     "output_type": "execute_result"
    }
   ],
   "source": [
    "stocks = raw[ raw.columns[1:] ]\n",
    "stocks.head()"
   ]
  },
  {
   "cell_type": "markdown",
   "metadata": {},
   "source": [
    "#### Or also"
   ]
  },
  {
   "cell_type": "code",
   "execution_count": 226,
   "metadata": {
    "collapsed": false,
    "scrolled": false
   },
   "outputs": [
    {
     "data": {
      "text/html": [
       "<div>\n",
       "<table border=\"1\" class=\"dataframe\">\n",
       "  <thead>\n",
       "    <tr style=\"text-align: right;\">\n",
       "      <th></th>\n",
       "      <th>stock</th>\n",
       "      <th>date</th>\n",
       "      <th>close</th>\n",
       "      <th>turnover</th>\n",
       "      <th>cap</th>\n",
       "    </tr>\n",
       "  </thead>\n",
       "  <tbody>\n",
       "    <tr>\n",
       "      <th>0</th>\n",
       "      <td>9983.T</td>\n",
       "      <td>2014-11-20</td>\n",
       "      <td>42845.0</td>\n",
       "      <td>4456.322944</td>\n",
       "      <td>4544740.53</td>\n",
       "    </tr>\n",
       "    <tr>\n",
       "      <th>1</th>\n",
       "      <td>9983.T</td>\n",
       "      <td>2015-07-29</td>\n",
       "      <td>60230.0</td>\n",
       "      <td>5275.562343</td>\n",
       "      <td>6388837.02</td>\n",
       "    </tr>\n",
       "    <tr>\n",
       "      <th>2</th>\n",
       "      <td>9983.T</td>\n",
       "      <td>2015-03-02</td>\n",
       "      <td>46850.0</td>\n",
       "      <td>4675.038181</td>\n",
       "      <td>4969566.90</td>\n",
       "    </tr>\n",
       "    <tr>\n",
       "      <th>3</th>\n",
       "      <td>9983.T</td>\n",
       "      <td>2013-08-19</td>\n",
       "      <td>32200.0</td>\n",
       "      <td>3325.979976</td>\n",
       "      <td>3415582.80</td>\n",
       "    </tr>\n",
       "    <tr>\n",
       "      <th>4</th>\n",
       "      <td>9983.T</td>\n",
       "      <td>2015-02-12</td>\n",
       "      <td>44305.0</td>\n",
       "      <td>4761.770085</td>\n",
       "      <td>4699608.57</td>\n",
       "    </tr>\n",
       "  </tbody>\n",
       "</table>\n",
       "</div>"
      ],
      "text/plain": [
       "    stock       date    close     turnover         cap\n",
       "0  9983.T 2014-11-20  42845.0  4456.322944  4544740.53\n",
       "1  9983.T 2015-07-29  60230.0  5275.562343  6388837.02\n",
       "2  9983.T 2015-03-02  46850.0  4675.038181  4969566.90\n",
       "3  9983.T 2013-08-19  32200.0  3325.979976  3415582.80\n",
       "4  9983.T 2015-02-12  44305.0  4761.770085  4699608.57"
      ]
     },
     "execution_count": 226,
     "metadata": {},
     "output_type": "execute_result"
    }
   ],
   "source": [
    "stocks = raw.drop( 'Unnamed: 0', axis=1 )\n",
    "stocks.head()"
   ]
  },
  {
   "cell_type": "markdown",
   "metadata": {},
   "source": [
    "#### Let's keep only business days"
   ]
  },
  {
   "cell_type": "code",
   "execution_count": 227,
   "metadata": {
    "collapsed": true
   },
   "outputs": [],
   "source": [
    "business_days = pd.bdate_range( stocks['date'].min(), stocks['date'].max() )\n",
    "stocks = stocks[ stocks['date'].isin( business_days ) ]"
   ]
  },
  {
   "cell_type": "markdown",
   "metadata": {},
   "source": [
    "<br/><br/><br/><br/>"
   ]
  },
  {
   "cell_type": "markdown",
   "metadata": {},
   "source": [
    "# Data aggregation"
   ]
  },
  {
   "cell_type": "markdown",
   "metadata": {},
   "source": [
    "#### We can aggregate the data by stock with the *groupby* command"
   ]
  },
  {
   "cell_type": "code",
   "execution_count": 228,
   "metadata": {
    "collapsed": false
   },
   "outputs": [
    {
     "data": {
      "text/html": [
       "<div>\n",
       "<table border=\"1\" class=\"dataframe\">\n",
       "  <thead>\n",
       "    <tr style=\"text-align: right;\">\n",
       "      <th></th>\n",
       "      <th>cap</th>\n",
       "    </tr>\n",
       "    <tr>\n",
       "      <th>stock</th>\n",
       "      <th></th>\n",
       "    </tr>\n",
       "  </thead>\n",
       "  <tbody>\n",
       "    <tr>\n",
       "      <th>1301.T</th>\n",
       "      <td>28608.728214</td>\n",
       "    </tr>\n",
       "    <tr>\n",
       "      <th>1332.T</th>\n",
       "      <td>95012.344141</td>\n",
       "    </tr>\n",
       "    <tr>\n",
       "      <th>1333.T</th>\n",
       "      <td>100042.026033</td>\n",
       "    </tr>\n",
       "    <tr>\n",
       "      <th>1352.T</th>\n",
       "      <td>10761.203478</td>\n",
       "    </tr>\n",
       "    <tr>\n",
       "      <th>1376.T</th>\n",
       "      <td>11882.820396</td>\n",
       "    </tr>\n",
       "  </tbody>\n",
       "</table>\n",
       "</div>"
      ],
      "text/plain": [
       "                  cap\n",
       "stock                \n",
       "1301.T   28608.728214\n",
       "1332.T   95012.344141\n",
       "1333.T  100042.026033\n",
       "1352.T   10761.203478\n",
       "1376.T   11882.820396"
      ]
     },
     "execution_count": 228,
     "metadata": {},
     "output_type": "execute_result"
    }
   ],
   "source": [
    "avg_cap = stocks.groupby('stock')[['cap']].mean()\n",
    "avg_cap.head()"
   ]
  },
  {
   "cell_type": "markdown",
   "metadata": {},
   "source": [
    "<div class='alert alert-info'> Notice that the resulting dataframe is indexed by *stock* </div>"
   ]
  },
  {
   "cell_type": "markdown",
   "metadata": {},
   "source": [
    "#### We can also aggregate multiple variables at once"
   ]
  },
  {
   "cell_type": "code",
   "execution_count": 229,
   "metadata": {
    "collapsed": false
   },
   "outputs": [
    {
     "data": {
      "text/html": [
       "<div>\n",
       "<table border=\"1\" class=\"dataframe\">\n",
       "  <thead>\n",
       "    <tr style=\"text-align: right;\">\n",
       "      <th></th>\n",
       "      <th>cap</th>\n",
       "      <th>turnover</th>\n",
       "    </tr>\n",
       "    <tr>\n",
       "      <th>stock</th>\n",
       "      <th></th>\n",
       "      <th></th>\n",
       "    </tr>\n",
       "  </thead>\n",
       "  <tbody>\n",
       "    <tr>\n",
       "      <th>1301.T</th>\n",
       "      <td>28608.728214</td>\n",
       "      <td>7943.031416</td>\n",
       "    </tr>\n",
       "    <tr>\n",
       "      <th>1332.T</th>\n",
       "      <td>95012.344141</td>\n",
       "      <td>11100.306478</td>\n",
       "    </tr>\n",
       "    <tr>\n",
       "      <th>1333.T</th>\n",
       "      <td>100042.026033</td>\n",
       "      <td>4514.926094</td>\n",
       "    </tr>\n",
       "    <tr>\n",
       "      <th>1352.T</th>\n",
       "      <td>10761.203478</td>\n",
       "      <td>2012.388261</td>\n",
       "    </tr>\n",
       "    <tr>\n",
       "      <th>1376.T</th>\n",
       "      <td>11882.820396</td>\n",
       "      <td>1360.017895</td>\n",
       "    </tr>\n",
       "  </tbody>\n",
       "</table>\n",
       "</div>"
      ],
      "text/plain": [
       "                  cap      turnover\n",
       "stock                              \n",
       "1301.T   28608.728214   7943.031416\n",
       "1332.T   95012.344141  11100.306478\n",
       "1333.T  100042.026033   4514.926094\n",
       "1352.T   10761.203478   2012.388261\n",
       "1376.T   11882.820396   1360.017895"
      ]
     },
     "execution_count": 229,
     "metadata": {},
     "output_type": "execute_result"
    }
   ],
   "source": [
    "avg = stocks.groupby('stock')[['cap', 'turnover']].mean()\n",
    "avg.head()"
   ]
  },
  {
   "cell_type": "markdown",
   "metadata": {},
   "source": [
    "<div class='alert alert-warning'>Careful with the number of parenthesis: you can get a pandas dataframe or a pandas series </div>"
   ]
  },
  {
   "cell_type": "code",
   "execution_count": 230,
   "metadata": {
    "collapsed": false
   },
   "outputs": [
    {
     "data": {
      "text/plain": [
       "stock\n",
       "1301.T     2149.388053\n",
       "1332.T    36982.146276\n",
       "1333.T    20620.263839\n",
       "1352.T      891.328046\n",
       "1376.T     1976.537494\n",
       "Name: cap, dtype: float64"
      ]
     },
     "execution_count": 230,
     "metadata": {},
     "output_type": "execute_result"
    }
   ],
   "source": [
    "df = stocks.groupby('stock')[['cap']].std()    # DataFrame\n",
    "se = stocks.groupby('stock')['cap'].std()      # Series\n",
    "se.head()"
   ]
  },
  {
   "cell_type": "markdown",
   "metadata": {},
   "source": [
    "<br/><br/><br/><br/>"
   ]
  },
  {
   "cell_type": "markdown",
   "metadata": {},
   "source": [
    "# Scattering data on the clusters"
   ]
  },
  {
   "cell_type": "code",
   "execution_count": 231,
   "metadata": {
    "collapsed": false
   },
   "outputs": [
    {
     "data": {
      "text/plain": [
       "<AsyncResult: scatter>"
      ]
     },
     "execution_count": 231,
     "metadata": {},
     "output_type": "execute_result"
    }
   ],
   "source": [
    "client[:].scatter( 'stocks', stocks )"
   ]
  },
  {
   "cell_type": "code",
   "execution_count": 232,
   "metadata": {
    "collapsed": false
   },
   "outputs": [
    {
     "data": {
      "text/html": [
       "<div>\n",
       "<table border=\"1\" class=\"dataframe\">\n",
       "  <thead>\n",
       "    <tr style=\"text-align: right;\">\n",
       "      <th></th>\n",
       "      <th>stock</th>\n",
       "      <th>date</th>\n",
       "      <th>close</th>\n",
       "      <th>turnover</th>\n",
       "      <th>cap</th>\n",
       "    </tr>\n",
       "  </thead>\n",
       "  <tbody>\n",
       "    <tr>\n",
       "      <th>0</th>\n",
       "      <td>9983.T</td>\n",
       "      <td>2014-11-20</td>\n",
       "      <td>42845.0</td>\n",
       "      <td>4456.322944</td>\n",
       "      <td>4544740.53</td>\n",
       "    </tr>\n",
       "    <tr>\n",
       "      <th>1</th>\n",
       "      <td>9983.T</td>\n",
       "      <td>2015-07-29</td>\n",
       "      <td>60230.0</td>\n",
       "      <td>5275.562343</td>\n",
       "      <td>6388837.02</td>\n",
       "    </tr>\n",
       "    <tr>\n",
       "      <th>2</th>\n",
       "      <td>9983.T</td>\n",
       "      <td>2015-03-02</td>\n",
       "      <td>46850.0</td>\n",
       "      <td>4675.038181</td>\n",
       "      <td>4969566.90</td>\n",
       "    </tr>\n",
       "    <tr>\n",
       "      <th>3</th>\n",
       "      <td>9983.T</td>\n",
       "      <td>2013-08-19</td>\n",
       "      <td>32200.0</td>\n",
       "      <td>3325.979976</td>\n",
       "      <td>3415582.80</td>\n",
       "    </tr>\n",
       "    <tr>\n",
       "      <th>4</th>\n",
       "      <td>9983.T</td>\n",
       "      <td>2015-02-12</td>\n",
       "      <td>44305.0</td>\n",
       "      <td>4761.770085</td>\n",
       "      <td>4699608.57</td>\n",
       "    </tr>\n",
       "  </tbody>\n",
       "</table>\n",
       "</div>"
      ],
      "text/plain": [
       "\u001b[0;31mOut[0:121]: \u001b[0m\n",
       "    stock       date    close     turnover         cap\n",
       "0  9983.T 2014-11-20  42845.0  4456.322944  4544740.53\n",
       "1  9983.T 2015-07-29  60230.0  5275.562343  6388837.02\n",
       "2  9983.T 2015-03-02  46850.0  4675.038181  4969566.90\n",
       "3  9983.T 2013-08-19  32200.0  3325.979976  3415582.80\n",
       "4  9983.T 2015-02-12  44305.0  4761.770085  4699608.57"
      ]
     },
     "metadata": {},
     "output_type": "display_data"
    },
    {
     "data": {
      "text/html": [
       "<div>\n",
       "<table border=\"1\" class=\"dataframe\">\n",
       "  <thead>\n",
       "    <tr style=\"text-align: right;\">\n",
       "      <th></th>\n",
       "      <th>stock</th>\n",
       "      <th>date</th>\n",
       "      <th>close</th>\n",
       "      <th>turnover</th>\n",
       "      <th>cap</th>\n",
       "    </tr>\n",
       "  </thead>\n",
       "  <tbody>\n",
       "    <tr>\n",
       "      <th>77294</th>\n",
       "      <td>5713.T</td>\n",
       "      <td>2014-12-01</td>\n",
       "      <td>1739.5</td>\n",
       "      <td>14349.377953</td>\n",
       "      <td>1011741.906</td>\n",
       "    </tr>\n",
       "    <tr>\n",
       "      <th>77295</th>\n",
       "      <td>8031.T</td>\n",
       "      <td>2016-04-04</td>\n",
       "      <td>1268.0</td>\n",
       "      <td>5368.563785</td>\n",
       "      <td>2277979.752</td>\n",
       "    </tr>\n",
       "    <tr>\n",
       "      <th>77296</th>\n",
       "      <td>5713.T</td>\n",
       "      <td>2015-11-27</td>\n",
       "      <td>1412.0</td>\n",
       "      <td>13732.144945</td>\n",
       "      <td>821258.736</td>\n",
       "    </tr>\n",
       "    <tr>\n",
       "      <th>77297</th>\n",
       "      <td>8031.T</td>\n",
       "      <td>2013-04-02</td>\n",
       "      <td>1258.0</td>\n",
       "      <td>8052.196836</td>\n",
       "      <td>2301074.474</td>\n",
       "    </tr>\n",
       "    <tr>\n",
       "      <th>77298</th>\n",
       "      <td>8031.T</td>\n",
       "      <td>2014-07-10</td>\n",
       "      <td>1631.0</td>\n",
       "      <td>4161.837870</td>\n",
       "      <td>2930114.334</td>\n",
       "    </tr>\n",
       "  </tbody>\n",
       "</table>\n",
       "</div>"
      ],
      "text/plain": [
       "\u001b[0;31mOut[1:61]: \u001b[0m\n",
       "        stock       date   close      turnover          cap\n",
       "77294  5713.T 2014-12-01  1739.5  14349.377953  1011741.906\n",
       "77295  8031.T 2016-04-04  1268.0   5368.563785  2277979.752\n",
       "77296  5713.T 2015-11-27  1412.0  13732.144945   821258.736\n",
       "77297  8031.T 2013-04-02  1258.0   8052.196836  2301074.474\n",
       "77298  8031.T 2014-07-10  1631.0   4161.837870  2930114.334"
      ]
     },
     "metadata": {},
     "output_type": "display_data"
    }
   ],
   "source": [
    "%%px --target :2\n",
    "stocks.head()"
   ]
  },
  {
   "cell_type": "markdown",
   "metadata": {},
   "source": [
    "### Often you would like the data to be splitted by groups ( for instance by stocks in our case ). Let's do it!"
   ]
  },
  {
   "cell_type": "markdown",
   "metadata": {},
   "source": [
    "#### First we create an array with the tickers"
   ]
  },
  {
   "cell_type": "code",
   "execution_count": 233,
   "metadata": {
    "collapsed": false
   },
   "outputs": [
    {
     "data": {
      "text/plain": [
       "array(['1301.T', '1332.T', '1333.T', ..., '9994.T', '9995.T', '9997.T'], dtype=object)"
      ]
     },
     "execution_count": 233,
     "metadata": {},
     "output_type": "execute_result"
    }
   ],
   "source": [
    "tickers = np.unique( stocks['stock'] )\n",
    "tickers"
   ]
  },
  {
   "cell_type": "markdown",
   "metadata": {},
   "source": [
    "#### And we scatter that around"
   ]
  },
  {
   "cell_type": "code",
   "execution_count": 234,
   "metadata": {
    "collapsed": false
   },
   "outputs": [
    {
     "data": {
      "text/plain": [
       "<AsyncResult: scatter>"
      ]
     },
     "execution_count": 234,
     "metadata": {},
     "output_type": "execute_result"
    }
   ],
   "source": [
    "client[:].scatter( 'tickers', tickers )"
   ]
  },
  {
   "cell_type": "markdown",
   "metadata": {},
   "source": [
    "#### Now every cluster contains some tickers"
   ]
  },
  {
   "cell_type": "code",
   "execution_count": 235,
   "metadata": {
    "collapsed": false
   },
   "outputs": [
    {
     "data": {
      "text/plain": [
       "\u001b[0;31mOut[0:122]: \u001b[0marray(['1301.T', '1332.T', '1333.T', '1352.T', '1376.T'], dtype=object)"
      ]
     },
     "metadata": {},
     "output_type": "display_data"
    },
    {
     "data": {
      "text/plain": [
       "\u001b[0;31mOut[1:62]: \u001b[0marray(['1929.T', '1930.T', '1934.T', '1937.T', '1939.T'], dtype=object)"
      ]
     },
     "metadata": {},
     "output_type": "display_data"
    }
   ],
   "source": [
    "%%px --target :2\n",
    "tickers[:5]"
   ]
  },
  {
   "cell_type": "markdown",
   "metadata": {},
   "source": [
    "#### Ok, now let's send the data"
   ]
  },
  {
   "cell_type": "code",
   "execution_count": 236,
   "metadata": {
    "collapsed": false
   },
   "outputs": [],
   "source": [
    "for i in range(CORES):\n",
    "    cluster_tickers = client[i].pull( 'tickers' ).get()\n",
    "    cluster_stocks  = stocks[ stocks['stock'].isin( cluster_tickers ) ]\n",
    "    client[i].push( { 'stocks': cluster_stocks } )"
   ]
  },
  {
   "cell_type": "markdown",
   "metadata": {},
   "source": [
    "#### Cool! Now every cluster has some stocks"
   ]
  },
  {
   "cell_type": "code",
   "execution_count": 237,
   "metadata": {
    "collapsed": false,
    "scrolled": false
   },
   "outputs": [
    {
     "data": {
      "text/html": [
       "<div>\n",
       "<table border=\"1\" class=\"dataframe\">\n",
       "  <thead>\n",
       "    <tr style=\"text-align: right;\">\n",
       "      <th></th>\n",
       "      <th>stock</th>\n",
       "      <th>date</th>\n",
       "      <th>close</th>\n",
       "      <th>turnover</th>\n",
       "      <th>cap</th>\n",
       "    </tr>\n",
       "  </thead>\n",
       "  <tbody>\n",
       "    <tr>\n",
       "      <th>35742</th>\n",
       "      <td>1925.T</td>\n",
       "      <td>2013-08-02</td>\n",
       "      <td>1847.0</td>\n",
       "      <td>8734.105887</td>\n",
       "      <td>1206223.984</td>\n",
       "    </tr>\n",
       "    <tr>\n",
       "      <th>35743</th>\n",
       "      <td>1925.T</td>\n",
       "      <td>2014-08-20</td>\n",
       "      <td>2048.5</td>\n",
       "      <td>2363.337381</td>\n",
       "      <td>1352874.467</td>\n",
       "    </tr>\n",
       "  </tbody>\n",
       "</table>\n",
       "</div>"
      ],
      "text/plain": [
       "\u001b[0;31mOut[0:123]: \u001b[0m\n",
       "        stock       date   close     turnover          cap\n",
       "35742  1925.T 2013-08-02  1847.0  8734.105887  1206223.984\n",
       "35743  1925.T 2014-08-20  2048.5  2363.337381  1352874.467"
      ]
     },
     "metadata": {},
     "output_type": "display_data"
    },
    {
     "data": {
      "text/html": [
       "<div>\n",
       "<table border=\"1\" class=\"dataframe\">\n",
       "  <thead>\n",
       "    <tr style=\"text-align: right;\">\n",
       "      <th></th>\n",
       "      <th>stock</th>\n",
       "      <th>date</th>\n",
       "      <th>close</th>\n",
       "      <th>turnover</th>\n",
       "      <th>cap</th>\n",
       "    </tr>\n",
       "  </thead>\n",
       "  <tbody>\n",
       "    <tr>\n",
       "      <th>42504</th>\n",
       "      <td>2282.T</td>\n",
       "      <td>2015-05-19</td>\n",
       "      <td>2557.0</td>\n",
       "      <td>4852.941176</td>\n",
       "      <td>521628.0</td>\n",
       "    </tr>\n",
       "    <tr>\n",
       "      <th>42505</th>\n",
       "      <td>2282.T</td>\n",
       "      <td>2015-05-20</td>\n",
       "      <td>2607.0</td>\n",
       "      <td>8887.254902</td>\n",
       "      <td>531828.0</td>\n",
       "    </tr>\n",
       "  </tbody>\n",
       "</table>\n",
       "</div>"
      ],
      "text/plain": [
       "\u001b[0;31mOut[1:63]: \u001b[0m\n",
       "        stock       date   close     turnover       cap\n",
       "42504  2282.T 2015-05-19  2557.0  4852.941176  521628.0\n",
       "42505  2282.T 2015-05-20  2607.0  8887.254902  531828.0"
      ]
     },
     "metadata": {},
     "output_type": "display_data"
    }
   ],
   "source": [
    "%%px --target :2\n",
    "stocks.head(2)"
   ]
  },
  {
   "cell_type": "markdown",
   "metadata": {},
   "source": [
    "#### We can now compute returns for each stock in parallel"
   ]
  },
  {
   "cell_type": "code",
   "execution_count": 238,
   "metadata": {
    "collapsed": true
   },
   "outputs": [],
   "source": [
    "%%px\n",
    "stocks.sort_values('date', inplace=1)\n",
    "stocks['ret'] = stocks.groupby('stock')['close'].pct_change()\n",
    "stocks.dropna(inplace=1)  # Drop the rows with missing values ( first day for each stock )"
   ]
  },
  {
   "cell_type": "markdown",
   "metadata": {},
   "source": [
    "<div class='alert alert-warning'>\n",
    "We have an issue. When the data was downloaded from Bloomberg, the \"carryforward\" option was selected.\n",
    "<br/>\n",
    "This means that on days in which the market was closed we have stale prices, and the calculated returns are zero.\n",
    "<br/>\n",
    "To solve this issue, let's remove those dates in which the returns are zero for all the securities\n",
    "</div>"
   ]
  },
  {
   "cell_type": "code",
   "execution_count": 241,
   "metadata": {
    "collapsed": true
   },
   "outputs": [],
   "source": [
    "%%px\n",
    "stocks['abs_ret'] = np.abs(stocks['ret'])\n",
    "temp  = stocks.groupby('date')[['abs_ret']].sum()\n",
    "bad_days = temp[temp['abs_ret']==0].index.values\n",
    "stocks = stocks[ -stocks['date'].isin( bad_days ) ]  # Notice the minus sign to neglect the condition\n",
    "\n",
    "# Let's clean a bit\n",
    "del temp; del bad_days\n",
    "stocks.drop( 'abs_ret', axis=1, inplace=1 )"
   ]
  },
  {
   "cell_type": "markdown",
   "metadata": {},
   "source": [
    "#### Then we gather the results"
   ]
  },
  {
   "cell_type": "code",
   "execution_count": 242,
   "metadata": {
    "collapsed": false,
    "scrolled": false
   },
   "outputs": [
    {
     "data": {
      "text/html": [
       "<div>\n",
       "<table border=\"1\" class=\"dataframe\">\n",
       "  <thead>\n",
       "    <tr style=\"text-align: right;\">\n",
       "      <th></th>\n",
       "      <th>stock</th>\n",
       "      <th>date</th>\n",
       "      <th>close</th>\n",
       "      <th>turnover</th>\n",
       "      <th>cap</th>\n",
       "      <th>ret</th>\n",
       "    </tr>\n",
       "  </thead>\n",
       "  <tbody>\n",
       "    <tr>\n",
       "      <th>307603</th>\n",
       "      <td>1884.T</td>\n",
       "      <td>2013-01-04</td>\n",
       "      <td>406.0</td>\n",
       "      <td>10162.268481</td>\n",
       "      <td>39632.096</td>\n",
       "      <td>0.009950</td>\n",
       "    </tr>\n",
       "    <tr>\n",
       "      <th>312336</th>\n",
       "      <td>1826.T</td>\n",
       "      <td>2013-01-04</td>\n",
       "      <td>435.0</td>\n",
       "      <td>11081.760196</td>\n",
       "      <td>6751.635</td>\n",
       "      <td>0.011628</td>\n",
       "    </tr>\n",
       "    <tr>\n",
       "      <th>307606</th>\n",
       "      <td>1414.T</td>\n",
       "      <td>2013-01-04</td>\n",
       "      <td>3400.0</td>\n",
       "      <td>32484.623578</td>\n",
       "      <td>98950.200</td>\n",
       "      <td>0.052632</td>\n",
       "    </tr>\n",
       "    <tr>\n",
       "      <th>312465</th>\n",
       "      <td>1822.T</td>\n",
       "      <td>2013-01-04</td>\n",
       "      <td>130.0</td>\n",
       "      <td>10436.206640</td>\n",
       "      <td>8732.100</td>\n",
       "      <td>0.015625</td>\n",
       "    </tr>\n",
       "    <tr>\n",
       "      <th>63133</th>\n",
       "      <td>1721.T</td>\n",
       "      <td>2013-01-04</td>\n",
       "      <td>1119.0</td>\n",
       "      <td>5593.993615</td>\n",
       "      <td>163349.382</td>\n",
       "      <td>0.011754</td>\n",
       "    </tr>\n",
       "  </tbody>\n",
       "</table>\n",
       "</div>"
      ],
      "text/plain": [
       "         stock       date   close      turnover         cap       ret\n",
       "307603  1884.T 2013-01-04   406.0  10162.268481   39632.096  0.009950\n",
       "312336  1826.T 2013-01-04   435.0  11081.760196    6751.635  0.011628\n",
       "307606  1414.T 2013-01-04  3400.0  32484.623578   98950.200  0.052632\n",
       "312465  1822.T 2013-01-04   130.0  10436.206640    8732.100  0.015625\n",
       "63133   1721.T 2013-01-04  1119.0   5593.993615  163349.382  0.011754"
      ]
     },
     "execution_count": 242,
     "metadata": {},
     "output_type": "execute_result"
    }
   ],
   "source": [
    "stocks = pd.concat( client[:].gather( 'stocks' ).get() )\n",
    "stocks.head()"
   ]
  },
  {
   "cell_type": "markdown",
   "metadata": {},
   "source": [
    "<br/><br/><br/><br/>"
   ]
  },
  {
   "cell_type": "markdown",
   "metadata": {},
   "source": [
    "# Merging datasets"
   ]
  },
  {
   "cell_type": "markdown",
   "metadata": {},
   "source": [
    "#### Let's load the (japanese) Fama-French factors "
   ]
  },
  {
   "cell_type": "code",
   "execution_count": 243,
   "metadata": {
    "collapsed": false
   },
   "outputs": [
    {
     "data": {
      "text/html": [
       "<div>\n",
       "<table border=\"1\" class=\"dataframe\">\n",
       "  <thead>\n",
       "    <tr style=\"text-align: right;\">\n",
       "      <th></th>\n",
       "      <th>date</th>\n",
       "      <th>Mkt-RF</th>\n",
       "      <th>SMB</th>\n",
       "      <th>HML</th>\n",
       "      <th>RF</th>\n",
       "    </tr>\n",
       "  </thead>\n",
       "  <tbody>\n",
       "    <tr>\n",
       "      <th>0</th>\n",
       "      <td>19900702</td>\n",
       "      <td>0.85</td>\n",
       "      <td>0.38</td>\n",
       "      <td>-0.06</td>\n",
       "      <td>0.03</td>\n",
       "    </tr>\n",
       "    <tr>\n",
       "      <th>1</th>\n",
       "      <td>19900703</td>\n",
       "      <td>0.07</td>\n",
       "      <td>0.71</td>\n",
       "      <td>0.28</td>\n",
       "      <td>0.03</td>\n",
       "    </tr>\n",
       "  </tbody>\n",
       "</table>\n",
       "</div>"
      ],
      "text/plain": [
       "       date  Mkt-RF   SMB   HML    RF\n",
       "0  19900702    0.85  0.38 -0.06  0.03\n",
       "1  19900703    0.07  0.71  0.28  0.03"
      ]
     },
     "execution_count": 243,
     "metadata": {},
     "output_type": "execute_result"
    }
   ],
   "source": [
    "FF = pd.read_csv( 'FF_JAP.csv' )\n",
    "FF.head(2)"
   ]
  },
  {
   "cell_type": "markdown",
   "metadata": {},
   "source": [
    "#### Ops.. the date has not been recognized. Let's fix this"
   ]
  },
  {
   "cell_type": "code",
   "execution_count": 244,
   "metadata": {
    "collapsed": false
   },
   "outputs": [
    {
     "data": {
      "text/html": [
       "<div>\n",
       "<table border=\"1\" class=\"dataframe\">\n",
       "  <thead>\n",
       "    <tr style=\"text-align: right;\">\n",
       "      <th></th>\n",
       "      <th>date</th>\n",
       "      <th>Mkt-RF</th>\n",
       "      <th>SMB</th>\n",
       "      <th>HML</th>\n",
       "      <th>RF</th>\n",
       "    </tr>\n",
       "  </thead>\n",
       "  <tbody>\n",
       "    <tr>\n",
       "      <th>0</th>\n",
       "      <td>1990-07-02</td>\n",
       "      <td>0.85</td>\n",
       "      <td>0.38</td>\n",
       "      <td>-0.06</td>\n",
       "      <td>0.03</td>\n",
       "    </tr>\n",
       "    <tr>\n",
       "      <th>1</th>\n",
       "      <td>1990-07-03</td>\n",
       "      <td>0.07</td>\n",
       "      <td>0.71</td>\n",
       "      <td>0.28</td>\n",
       "      <td>0.03</td>\n",
       "    </tr>\n",
       "  </tbody>\n",
       "</table>\n",
       "</div>"
      ],
      "text/plain": [
       "        date  Mkt-RF   SMB   HML    RF\n",
       "0 1990-07-02    0.85  0.38 -0.06  0.03\n",
       "1 1990-07-03    0.07  0.71  0.28  0.03"
      ]
     },
     "execution_count": 244,
     "metadata": {},
     "output_type": "execute_result"
    }
   ],
   "source": [
    "date_parser = lambda x : pd.to_datetime(x, format='%Y%m%d')\n",
    "FF['date'] = FF['date'].apply( date_parser )\n",
    "FF.head(2)"
   ]
  },
  {
   "cell_type": "markdown",
   "metadata": {},
   "source": [
    "#### Let's also rename some columns"
   ]
  },
  {
   "cell_type": "code",
   "execution_count": 245,
   "metadata": {
    "collapsed": false
   },
   "outputs": [
    {
     "data": {
      "text/html": [
       "<div>\n",
       "<table border=\"1\" class=\"dataframe\">\n",
       "  <thead>\n",
       "    <tr style=\"text-align: right;\">\n",
       "      <th></th>\n",
       "      <th>date</th>\n",
       "      <th>MKT</th>\n",
       "      <th>SMB</th>\n",
       "      <th>HML</th>\n",
       "      <th>rf</th>\n",
       "    </tr>\n",
       "  </thead>\n",
       "  <tbody>\n",
       "    <tr>\n",
       "      <th>0</th>\n",
       "      <td>1990-07-02</td>\n",
       "      <td>0.85</td>\n",
       "      <td>0.38</td>\n",
       "      <td>-0.06</td>\n",
       "      <td>0.03</td>\n",
       "    </tr>\n",
       "    <tr>\n",
       "      <th>1</th>\n",
       "      <td>1990-07-03</td>\n",
       "      <td>0.07</td>\n",
       "      <td>0.71</td>\n",
       "      <td>0.28</td>\n",
       "      <td>0.03</td>\n",
       "    </tr>\n",
       "  </tbody>\n",
       "</table>\n",
       "</div>"
      ],
      "text/plain": [
       "        date   MKT   SMB   HML    rf\n",
       "0 1990-07-02  0.85  0.38 -0.06  0.03\n",
       "1 1990-07-03  0.07  0.71  0.28  0.03"
      ]
     },
     "execution_count": 245,
     "metadata": {},
     "output_type": "execute_result"
    }
   ],
   "source": [
    "FF.rename_axis( { 'Mkt-RF':'MKT', 'RF':'rf' }, axis=1, inplace=1 )\n",
    "FF.head(2)"
   ]
  },
  {
   "cell_type": "markdown",
   "metadata": {},
   "source": [
    "#### And we recale the market return, so that it is expressed in the right unit"
   ]
  },
  {
   "cell_type": "code",
   "execution_count": 246,
   "metadata": {
    "collapsed": true
   },
   "outputs": [],
   "source": [
    "FF['MKT'] = FF['MKT'] / 100"
   ]
  },
  {
   "cell_type": "markdown",
   "metadata": {},
   "source": [
    "#### There are at least two ways to merge: Using *merge* and aligning the indices. This time we go for the former"
   ]
  },
  {
   "cell_type": "code",
   "execution_count": 247,
   "metadata": {
    "collapsed": false,
    "scrolled": true
   },
   "outputs": [
    {
     "data": {
      "text/html": [
       "<div>\n",
       "<table border=\"1\" class=\"dataframe\">\n",
       "  <thead>\n",
       "    <tr style=\"text-align: right;\">\n",
       "      <th></th>\n",
       "      <th>stock</th>\n",
       "      <th>date</th>\n",
       "      <th>close</th>\n",
       "      <th>turnover</th>\n",
       "      <th>cap</th>\n",
       "      <th>ret</th>\n",
       "      <th>MKT</th>\n",
       "      <th>SMB</th>\n",
       "      <th>HML</th>\n",
       "      <th>rf</th>\n",
       "    </tr>\n",
       "  </thead>\n",
       "  <tbody>\n",
       "    <tr>\n",
       "      <th>1735602</th>\n",
       "      <td>9842.T</td>\n",
       "      <td>2016-06-30</td>\n",
       "      <td>1133.0</td>\n",
       "      <td>867.526944</td>\n",
       "      <td>46885.806</td>\n",
       "      <td>0.001768</td>\n",
       "      <td>-0.0058</td>\n",
       "      <td>0.21</td>\n",
       "      <td>-0.29</td>\n",
       "      <td>0.0</td>\n",
       "    </tr>\n",
       "    <tr>\n",
       "      <th>1735603</th>\n",
       "      <td>9982.T</td>\n",
       "      <td>2016-06-30</td>\n",
       "      <td>426.0</td>\n",
       "      <td>479.166667</td>\n",
       "      <td>20448.000</td>\n",
       "      <td>0.000000</td>\n",
       "      <td>-0.0058</td>\n",
       "      <td>0.21</td>\n",
       "      <td>-0.29</td>\n",
       "      <td>0.0</td>\n",
       "    </tr>\n",
       "    <tr>\n",
       "      <th>1735604</th>\n",
       "      <td>9962.T</td>\n",
       "      <td>2016-06-30</td>\n",
       "      <td>1833.0</td>\n",
       "      <td>6275.033864</td>\n",
       "      <td>503393.124</td>\n",
       "      <td>0.011031</td>\n",
       "      <td>-0.0058</td>\n",
       "      <td>0.21</td>\n",
       "      <td>-0.29</td>\n",
       "      <td>0.0</td>\n",
       "    </tr>\n",
       "    <tr>\n",
       "      <th>1735605</th>\n",
       "      <td>9766.T</td>\n",
       "      <td>2016-06-30</td>\n",
       "      <td>3895.0</td>\n",
       "      <td>8370.034843</td>\n",
       "      <td>558932.500</td>\n",
       "      <td>-0.008906</td>\n",
       "      <td>-0.0058</td>\n",
       "      <td>0.21</td>\n",
       "      <td>-0.29</td>\n",
       "      <td>0.0</td>\n",
       "    </tr>\n",
       "    <tr>\n",
       "      <th>1735606</th>\n",
       "      <td>9765.T</td>\n",
       "      <td>2016-06-30</td>\n",
       "      <td>392.0</td>\n",
       "      <td>1718.341427</td>\n",
       "      <td>7345.688</td>\n",
       "      <td>-0.007595</td>\n",
       "      <td>-0.0058</td>\n",
       "      <td>0.21</td>\n",
       "      <td>-0.29</td>\n",
       "      <td>0.0</td>\n",
       "    </tr>\n",
       "  </tbody>\n",
       "</table>\n",
       "</div>"
      ],
      "text/plain": [
       "          stock       date   close     turnover         cap       ret     MKT  \\\n",
       "1735602  9842.T 2016-06-30  1133.0   867.526944   46885.806  0.001768 -0.0058   \n",
       "1735603  9982.T 2016-06-30   426.0   479.166667   20448.000  0.000000 -0.0058   \n",
       "1735604  9962.T 2016-06-30  1833.0  6275.033864  503393.124  0.011031 -0.0058   \n",
       "1735605  9766.T 2016-06-30  3895.0  8370.034843  558932.500 -0.008906 -0.0058   \n",
       "1735606  9765.T 2016-06-30   392.0  1718.341427    7345.688 -0.007595 -0.0058   \n",
       "\n",
       "          SMB   HML   rf  \n",
       "1735602  0.21 -0.29  0.0  \n",
       "1735603  0.21 -0.29  0.0  \n",
       "1735604  0.21 -0.29  0.0  \n",
       "1735605  0.21 -0.29  0.0  \n",
       "1735606  0.21 -0.29  0.0  "
      ]
     },
     "execution_count": 247,
     "metadata": {},
     "output_type": "execute_result"
    }
   ],
   "source": [
    "stocks_FF = stocks.merge( FF, on='date', how='left' )\n",
    "stocks_FF.dropna(inplace=1)\n",
    "stocks_FF.tail()"
   ]
  },
  {
   "cell_type": "markdown",
   "metadata": {},
   "source": [
    "<br/><br/><br/><br/>"
   ]
  },
  {
   "cell_type": "markdown",
   "metadata": {},
   "source": [
    "# Regressions"
   ]
  },
  {
   "cell_type": "code",
   "execution_count": 248,
   "metadata": {
    "collapsed": true
   },
   "outputs": [],
   "source": [
    "import statsmodels.api as sm"
   ]
  },
  {
   "cell_type": "markdown",
   "metadata": {},
   "source": [
    "#### Let's first consider only stock. Let's get a big one"
   ]
  },
  {
   "cell_type": "code",
   "execution_count": 249,
   "metadata": {
    "collapsed": false,
    "scrolled": true
   },
   "outputs": [
    {
     "data": {
      "text/html": [
       "<div>\n",
       "<table border=\"1\" class=\"dataframe\">\n",
       "  <thead>\n",
       "    <tr style=\"text-align: right;\">\n",
       "      <th></th>\n",
       "      <th>cap</th>\n",
       "    </tr>\n",
       "    <tr>\n",
       "      <th>stock</th>\n",
       "      <th></th>\n",
       "    </tr>\n",
       "  </thead>\n",
       "  <tbody>\n",
       "    <tr>\n",
       "      <th>9984.T</th>\n",
       "      <td>7.936088e+06</td>\n",
       "    </tr>\n",
       "    <tr>\n",
       "      <th>9432.T</th>\n",
       "      <td>7.961600e+06</td>\n",
       "    </tr>\n",
       "    <tr>\n",
       "      <th>9437.T</th>\n",
       "      <td>8.268842e+06</td>\n",
       "    </tr>\n",
       "    <tr>\n",
       "      <th>8306.T</th>\n",
       "      <td>9.228962e+06</td>\n",
       "    </tr>\n",
       "    <tr>\n",
       "      <th>7203.T</th>\n",
       "      <td>2.222678e+07</td>\n",
       "    </tr>\n",
       "  </tbody>\n",
       "</table>\n",
       "</div>"
      ],
      "text/plain": [
       "                 cap\n",
       "stock               \n",
       "9984.T  7.936088e+06\n",
       "9432.T  7.961600e+06\n",
       "9437.T  8.268842e+06\n",
       "8306.T  9.228962e+06\n",
       "7203.T  2.222678e+07"
      ]
     },
     "execution_count": 249,
     "metadata": {},
     "output_type": "execute_result"
    }
   ],
   "source": [
    "avg_cap = stocks_FF.groupby('stock')[['cap']].mean().sort_values('cap')\n",
    "avg_cap.tail(5)"
   ]
  },
  {
   "cell_type": "code",
   "execution_count": 250,
   "metadata": {
    "collapsed": false
   },
   "outputs": [
    {
     "data": {
      "text/html": [
       "<div>\n",
       "<table border=\"1\" class=\"dataframe\">\n",
       "  <thead>\n",
       "    <tr style=\"text-align: right;\">\n",
       "      <th></th>\n",
       "      <th>cap</th>\n",
       "    </tr>\n",
       "    <tr>\n",
       "      <th>stock</th>\n",
       "      <th></th>\n",
       "    </tr>\n",
       "  </thead>\n",
       "  <tbody>\n",
       "    <tr>\n",
       "      <th>7203.T</th>\n",
       "      <td>2.222678e+07</td>\n",
       "    </tr>\n",
       "  </tbody>\n",
       "</table>\n",
       "</div>"
      ],
      "text/plain": [
       "                 cap\n",
       "stock               \n",
       "7203.T  2.222678e+07"
      ]
     },
     "execution_count": 250,
     "metadata": {},
     "output_type": "execute_result"
    }
   ],
   "source": [
    "big_one = avg_cap.tail(5).sample()   # This pikcks a random line from avg_cap.tail(10)\n",
    "big_one"
   ]
  },
  {
   "cell_type": "code",
   "execution_count": 251,
   "metadata": {
    "collapsed": false
   },
   "outputs": [
    {
     "data": {
      "text/html": [
       "<div>\n",
       "<table border=\"1\" class=\"dataframe\">\n",
       "  <thead>\n",
       "    <tr style=\"text-align: right;\">\n",
       "      <th></th>\n",
       "      <th>stock</th>\n",
       "      <th>date</th>\n",
       "      <th>close</th>\n",
       "      <th>turnover</th>\n",
       "      <th>cap</th>\n",
       "      <th>ret</th>\n",
       "      <th>MKT</th>\n",
       "      <th>SMB</th>\n",
       "      <th>HML</th>\n",
       "      <th>rf</th>\n",
       "    </tr>\n",
       "  </thead>\n",
       "  <tbody>\n",
       "    <tr>\n",
       "      <th>1072761</th>\n",
       "      <td>7203.T</td>\n",
       "      <td>2016-06-29</td>\n",
       "      <td>5119.0</td>\n",
       "      <td>4242.093614</td>\n",
       "      <td>1.708721e+07</td>\n",
       "      <td>0.028945</td>\n",
       "      <td>0.0173</td>\n",
       "      <td>-0.47</td>\n",
       "      <td>0.03</td>\n",
       "      <td>0.0</td>\n",
       "    </tr>\n",
       "    <tr>\n",
       "      <th>1072820</th>\n",
       "      <td>7203.T</td>\n",
       "      <td>2016-06-30</td>\n",
       "      <td>5052.0</td>\n",
       "      <td>4254.735923</td>\n",
       "      <td>1.686357e+07</td>\n",
       "      <td>-0.013088</td>\n",
       "      <td>-0.0058</td>\n",
       "      <td>0.21</td>\n",
       "      <td>-0.29</td>\n",
       "      <td>0.0</td>\n",
       "    </tr>\n",
       "  </tbody>\n",
       "</table>\n",
       "</div>"
      ],
      "text/plain": [
       "          stock       date   close     turnover           cap       ret  \\\n",
       "1072761  7203.T 2016-06-29  5119.0  4242.093614  1.708721e+07  0.028945   \n",
       "1072820  7203.T 2016-06-30  5052.0  4254.735923  1.686357e+07 -0.013088   \n",
       "\n",
       "            MKT   SMB   HML   rf  \n",
       "1072761  0.0173 -0.47  0.03  0.0  \n",
       "1072820 -0.0058  0.21 -0.29  0.0  "
      ]
     },
     "execution_count": 251,
     "metadata": {},
     "output_type": "execute_result"
    }
   ],
   "source": [
    "big_one_ticker = big_one.iloc[0].name\n",
    "sample = stocks_FF[ stocks_FF['stock'] == big_one_ticker ].copy()\n",
    "sample.tail(2)"
   ]
  },
  {
   "cell_type": "markdown",
   "metadata": {},
   "source": [
    "#### Now let's regress excess returns on the 3 factors"
   ]
  },
  {
   "cell_type": "code",
   "execution_count": 252,
   "metadata": {
    "collapsed": false
   },
   "outputs": [
    {
     "data": {
      "text/html": [
       "<table class=\"simpletable\">\n",
       "<caption>OLS Regression Results</caption>\n",
       "<tr>\n",
       "  <th>Dep. Variable:</th>          <td>xret</td>       <th>  R-squared:         </th> <td>   0.664</td> \n",
       "</tr>\n",
       "<tr>\n",
       "  <th>Model:</th>                   <td>OLS</td>       <th>  Adj. R-squared:    </th> <td>   0.663</td> \n",
       "</tr>\n",
       "<tr>\n",
       "  <th>Method:</th>             <td>Least Squares</td>  <th>  F-statistic:       </th> <td>   561.0</td> \n",
       "</tr>\n",
       "<tr>\n",
       "  <th>Date:</th>             <td>Thu, 15 Sep 2016</td> <th>  Prob (F-statistic):</th> <td>3.51e-201</td>\n",
       "</tr>\n",
       "<tr>\n",
       "  <th>Time:</th>                 <td>15:37:21</td>     <th>  Log-Likelihood:    </th> <td>  2695.7</td> \n",
       "</tr>\n",
       "<tr>\n",
       "  <th>No. Observations:</th>      <td>   855</td>      <th>  AIC:               </th> <td>  -5385.</td> \n",
       "</tr>\n",
       "<tr>\n",
       "  <th>Df Residuals:</th>          <td>   852</td>      <th>  BIC:               </th> <td>  -5371.</td> \n",
       "</tr>\n",
       "<tr>\n",
       "  <th>Df Model:</th>              <td>     3</td>      <th>                     </th>     <td> </td>    \n",
       "</tr>\n",
       "<tr>\n",
       "  <th>Covariance Type:</th>      <td>nonrobust</td>    <th>                     </th>     <td> </td>    \n",
       "</tr>\n",
       "</table>\n",
       "<table class=\"simpletable\">\n",
       "<tr>\n",
       "   <td></td>      <th>coef</th>     <th>std err</th>      <th>t</th>      <th>P>|t|</th> <th>[95.0% Conf. Int.]</th> \n",
       "</tr>\n",
       "<tr>\n",
       "  <th>MKT</th> <td>    0.9301</td> <td>    0.029</td> <td>   31.923</td> <td> 0.000</td> <td>    0.873     0.987</td>\n",
       "</tr>\n",
       "<tr>\n",
       "  <th>SMB</th> <td>   -0.0071</td> <td>    0.001</td> <td>  -10.283</td> <td> 0.000</td> <td>   -0.008    -0.006</td>\n",
       "</tr>\n",
       "<tr>\n",
       "  <th>HML</th> <td>    0.0005</td> <td>    0.001</td> <td>    0.570</td> <td> 0.569</td> <td>   -0.001     0.002</td>\n",
       "</tr>\n",
       "</table>\n",
       "<table class=\"simpletable\">\n",
       "<tr>\n",
       "  <th>Omnibus:</th>       <td>71.776</td> <th>  Durbin-Watson:     </th> <td>   1.938</td>\n",
       "</tr>\n",
       "<tr>\n",
       "  <th>Prob(Omnibus):</th> <td> 0.000</td> <th>  Jarque-Bera (JB):  </th> <td> 285.309</td>\n",
       "</tr>\n",
       "<tr>\n",
       "  <th>Skew:</th>          <td> 0.283</td> <th>  Prob(JB):          </th> <td>1.11e-62</td>\n",
       "</tr>\n",
       "<tr>\n",
       "  <th>Kurtosis:</th>      <td> 5.773</td> <th>  Cond. No.          </th> <td>    56.4</td>\n",
       "</tr>\n",
       "</table>"
      ],
      "text/plain": [
       "<class 'statsmodels.iolib.summary.Summary'>\n",
       "\"\"\"\n",
       "                            OLS Regression Results                            \n",
       "==============================================================================\n",
       "Dep. Variable:                   xret   R-squared:                       0.664\n",
       "Model:                            OLS   Adj. R-squared:                  0.663\n",
       "Method:                 Least Squares   F-statistic:                     561.0\n",
       "Date:                Thu, 15 Sep 2016   Prob (F-statistic):          3.51e-201\n",
       "Time:                        15:37:21   Log-Likelihood:                 2695.7\n",
       "No. Observations:                 855   AIC:                            -5385.\n",
       "Df Residuals:                     852   BIC:                            -5371.\n",
       "Df Model:                           3                                         \n",
       "Covariance Type:            nonrobust                                         \n",
       "==============================================================================\n",
       "                 coef    std err          t      P>|t|      [95.0% Conf. Int.]\n",
       "------------------------------------------------------------------------------\n",
       "MKT            0.9301      0.029     31.923      0.000         0.873     0.987\n",
       "SMB           -0.0071      0.001    -10.283      0.000        -0.008    -0.006\n",
       "HML            0.0005      0.001      0.570      0.569        -0.001     0.002\n",
       "==============================================================================\n",
       "Omnibus:                       71.776   Durbin-Watson:                   1.938\n",
       "Prob(Omnibus):                  0.000   Jarque-Bera (JB):              285.309\n",
       "Skew:                           0.283   Prob(JB):                     1.11e-62\n",
       "Kurtosis:                       5.773   Cond. No.                         56.4\n",
       "==============================================================================\n",
       "\n",
       "Warnings:\n",
       "[1] Standard Errors assume that the covariance matrix of the errors is correctly specified.\n",
       "\"\"\""
      ]
     },
     "execution_count": 252,
     "metadata": {},
     "output_type": "execute_result"
    }
   ],
   "source": [
    "sample['xret'] = sample['ret'] - sample['rf']\n",
    "\n",
    "sample.dropna(inplace=1)\n",
    "\n",
    "y = sample['xret']\n",
    "x = sample[['MKT', 'SMB', 'HML']]\n",
    "\n",
    "reg = sm.OLS( y, x ).fit()\n",
    "reg.summary()"
   ]
  },
  {
   "cell_type": "markdown",
   "metadata": {},
   "source": [
    "#### Say we want to get the market beta"
   ]
  },
  {
   "cell_type": "code",
   "execution_count": 253,
   "metadata": {
    "collapsed": false
   },
   "outputs": [
    {
     "name": "stdout",
     "output_type": "stream",
     "text": [
      "Market beta for stock 7203.T is 0.93\n"
     ]
    }
   ],
   "source": [
    "beta = reg.params['MKT']\n",
    "print('Market beta for stock {0} is {1:1.2f}'.format( big_one_ticker, beta )  )"
   ]
  },
  {
   "cell_type": "markdown",
   "metadata": {},
   "source": [
    "#### We now compute abnormal returns w.r.t. the 3-factor model"
   ]
  },
  {
   "cell_type": "code",
   "execution_count": 255,
   "metadata": {
    "collapsed": false,
    "scrolled": true
   },
   "outputs": [
    {
     "data": {
      "text/html": [
       "<div>\n",
       "<table border=\"1\" class=\"dataframe\">\n",
       "  <thead>\n",
       "    <tr style=\"text-align: right;\">\n",
       "      <th></th>\n",
       "      <th>stock</th>\n",
       "      <th>date</th>\n",
       "      <th>close</th>\n",
       "      <th>turnover</th>\n",
       "      <th>cap</th>\n",
       "      <th>ret</th>\n",
       "      <th>MKT</th>\n",
       "      <th>SMB</th>\n",
       "      <th>HML</th>\n",
       "      <th>rf</th>\n",
       "      <th>xret</th>\n",
       "      <th>aret</th>\n",
       "    </tr>\n",
       "  </thead>\n",
       "  <tbody>\n",
       "    <tr>\n",
       "      <th>1007169</th>\n",
       "      <td>7203.T</td>\n",
       "      <td>2013-01-04</td>\n",
       "      <td>4260.0</td>\n",
       "      <td>4477.873827</td>\n",
       "      <td>14688471.48</td>\n",
       "      <td>0.063670</td>\n",
       "      <td>0.0213</td>\n",
       "      <td>-1.06</td>\n",
       "      <td>1.14</td>\n",
       "      <td>0.0</td>\n",
       "      <td>0.063670</td>\n",
       "      <td>0.035818</td>\n",
       "    </tr>\n",
       "    <tr>\n",
       "      <th>1007267</th>\n",
       "      <td>7203.T</td>\n",
       "      <td>2013-01-07</td>\n",
       "      <td>4185.0</td>\n",
       "      <td>3305.280339</td>\n",
       "      <td>14429871.63</td>\n",
       "      <td>-0.017606</td>\n",
       "      <td>-0.0029</td>\n",
       "      <td>1.52</td>\n",
       "      <td>-0.90</td>\n",
       "      <td>0.0</td>\n",
       "      <td>-0.017606</td>\n",
       "      <td>-0.003736</td>\n",
       "    </tr>\n",
       "  </tbody>\n",
       "</table>\n",
       "</div>"
      ],
      "text/plain": [
       "          stock       date   close     turnover          cap       ret  \\\n",
       "1007169  7203.T 2013-01-04  4260.0  4477.873827  14688471.48  0.063670   \n",
       "1007267  7203.T 2013-01-07  4185.0  3305.280339  14429871.63 -0.017606   \n",
       "\n",
       "            MKT   SMB   HML   rf      xret      aret  \n",
       "1007169  0.0213 -1.06  1.14  0.0  0.063670  0.035818  \n",
       "1007267 -0.0029  1.52 -0.90  0.0 -0.017606 -0.003736  "
      ]
     },
     "execution_count": 255,
     "metadata": {},
     "output_type": "execute_result"
    }
   ],
   "source": [
    "sample['aret'] = reg.resid\n",
    "sample.head(2)"
   ]
  },
  {
   "cell_type": "markdown",
   "metadata": {},
   "source": [
    "#### And also w.r.t. the market factor only"
   ]
  },
  {
   "cell_type": "code",
   "execution_count": 257,
   "metadata": {
    "collapsed": false,
    "scrolled": true
   },
   "outputs": [
    {
     "data": {
      "text/html": [
       "<div>\n",
       "<table border=\"1\" class=\"dataframe\">\n",
       "  <thead>\n",
       "    <tr style=\"text-align: right;\">\n",
       "      <th></th>\n",
       "      <th>stock</th>\n",
       "      <th>date</th>\n",
       "      <th>close</th>\n",
       "      <th>turnover</th>\n",
       "      <th>cap</th>\n",
       "      <th>ret</th>\n",
       "      <th>MKT</th>\n",
       "      <th>SMB</th>\n",
       "      <th>HML</th>\n",
       "      <th>rf</th>\n",
       "      <th>xret</th>\n",
       "      <th>aret</th>\n",
       "      <th>aret_mk1</th>\n",
       "    </tr>\n",
       "  </thead>\n",
       "  <tbody>\n",
       "    <tr>\n",
       "      <th>1007169</th>\n",
       "      <td>7203.T</td>\n",
       "      <td>2013-01-04</td>\n",
       "      <td>4260.0</td>\n",
       "      <td>4477.873827</td>\n",
       "      <td>14688471.48</td>\n",
       "      <td>0.063670</td>\n",
       "      <td>0.0213</td>\n",
       "      <td>-1.06</td>\n",
       "      <td>1.14</td>\n",
       "      <td>0.0</td>\n",
       "      <td>0.063670</td>\n",
       "      <td>0.035818</td>\n",
       "      <td>0.043860</td>\n",
       "    </tr>\n",
       "    <tr>\n",
       "      <th>1007267</th>\n",
       "      <td>7203.T</td>\n",
       "      <td>2013-01-07</td>\n",
       "      <td>4185.0</td>\n",
       "      <td>3305.280339</td>\n",
       "      <td>14429871.63</td>\n",
       "      <td>-0.017606</td>\n",
       "      <td>-0.0029</td>\n",
       "      <td>1.52</td>\n",
       "      <td>-0.90</td>\n",
       "      <td>0.0</td>\n",
       "      <td>-0.017606</td>\n",
       "      <td>-0.003736</td>\n",
       "      <td>-0.014908</td>\n",
       "    </tr>\n",
       "  </tbody>\n",
       "</table>\n",
       "</div>"
      ],
      "text/plain": [
       "          stock       date   close     turnover          cap       ret  \\\n",
       "1007169  7203.T 2013-01-04  4260.0  4477.873827  14688471.48  0.063670   \n",
       "1007267  7203.T 2013-01-07  4185.0  3305.280339  14429871.63 -0.017606   \n",
       "\n",
       "            MKT   SMB   HML   rf      xret      aret  aret_mk1  \n",
       "1007169  0.0213 -1.06  1.14  0.0  0.063670  0.035818  0.043860  \n",
       "1007267 -0.0029  1.52 -0.90  0.0 -0.017606 -0.003736 -0.014908  "
      ]
     },
     "execution_count": 257,
     "metadata": {},
     "output_type": "execute_result"
    }
   ],
   "source": [
    "sample['aret_mkt'] = sample['ret'] - beta * sample['MKT']\n",
    "sample.head(2)"
   ]
  },
  {
   "cell_type": "markdown",
   "metadata": {},
   "source": [
    "#### Ok, cool. Now let's make a nice function out of this"
   ]
  },
  {
   "cell_type": "code",
   "execution_count": 258,
   "metadata": {
    "collapsed": true
   },
   "outputs": [],
   "source": [
    "def abnormal_returns( sample, mkt_only=False ):\n",
    "    sample['xret'] = sample['ret'] - sample['rf']\n",
    "    sample.dropna(inplace=1)\n",
    "    y = sample['xret']\n",
    "    if mkt_only:  x = sample['MKT']\n",
    "    else:         x = sample[['MKT', 'SMB', 'HML']]\n",
    "    reg = sm.OLS( y, x ).fit()\n",
    "    return reg.resid"
   ]
  },
  {
   "cell_type": "code",
   "execution_count": 262,
   "metadata": {
    "collapsed": false,
    "scrolled": true
   },
   "outputs": [
    {
     "data": {
      "text/html": [
       "<div>\n",
       "<table border=\"1\" class=\"dataframe\">\n",
       "  <thead>\n",
       "    <tr style=\"text-align: right;\">\n",
       "      <th></th>\n",
       "      <th>stock</th>\n",
       "      <th>date</th>\n",
       "      <th>close</th>\n",
       "      <th>turnover</th>\n",
       "      <th>cap</th>\n",
       "      <th>ret</th>\n",
       "      <th>MKT</th>\n",
       "      <th>SMB</th>\n",
       "      <th>HML</th>\n",
       "      <th>rf</th>\n",
       "      <th>xret</th>\n",
       "      <th>aret_3f</th>\n",
       "      <th>aret_1f</th>\n",
       "    </tr>\n",
       "  </thead>\n",
       "  <tbody>\n",
       "    <tr>\n",
       "      <th>1007169</th>\n",
       "      <td>7203.T</td>\n",
       "      <td>2013-01-04</td>\n",
       "      <td>4260.0</td>\n",
       "      <td>4477.873827</td>\n",
       "      <td>14688471.48</td>\n",
       "      <td>0.063670</td>\n",
       "      <td>0.0213</td>\n",
       "      <td>-1.06</td>\n",
       "      <td>1.14</td>\n",
       "      <td>0.0</td>\n",
       "      <td>0.063670</td>\n",
       "      <td>0.035818</td>\n",
       "      <td>0.041207</td>\n",
       "    </tr>\n",
       "    <tr>\n",
       "      <th>1007267</th>\n",
       "      <td>7203.T</td>\n",
       "      <td>2013-01-07</td>\n",
       "      <td>4185.0</td>\n",
       "      <td>3305.280339</td>\n",
       "      <td>14429871.63</td>\n",
       "      <td>-0.017606</td>\n",
       "      <td>-0.0029</td>\n",
       "      <td>1.52</td>\n",
       "      <td>-0.90</td>\n",
       "      <td>0.0</td>\n",
       "      <td>-0.017606</td>\n",
       "      <td>-0.003736</td>\n",
       "      <td>-0.014547</td>\n",
       "    </tr>\n",
       "  </tbody>\n",
       "</table>\n",
       "</div>"
      ],
      "text/plain": [
       "          stock       date   close     turnover          cap       ret  \\\n",
       "1007169  7203.T 2013-01-04  4260.0  4477.873827  14688471.48  0.063670   \n",
       "1007267  7203.T 2013-01-07  4185.0  3305.280339  14429871.63 -0.017606   \n",
       "\n",
       "            MKT   SMB   HML   rf      xret   aret_3f   aret_1f  \n",
       "1007169  0.0213 -1.06  1.14  0.0  0.063670  0.035818  0.041207  \n",
       "1007267 -0.0029  1.52 -0.90  0.0 -0.017606 -0.003736 -0.014547  "
      ]
     },
     "execution_count": 262,
     "metadata": {},
     "output_type": "execute_result"
    }
   ],
   "source": [
    "sample = stocks_FF[ stocks_FF['stock'] == big_one_ticker ].copy()\n",
    "\n",
    "sample['aret_3f'] = abnormal_returns(sample)\n",
    "sample['aret_1f'] = abnormal_returns(sample, mkt_only=True)\n",
    "sample.head(2)"
   ]
  },
  {
   "cell_type": "markdown",
   "metadata": {},
   "source": [
    "#### We can now loop through the stocks and apply our function\n",
    "Let's do it for the first 20 stocks only, since it takes quite a lot of time!"
   ]
  },
  {
   "cell_type": "code",
   "execution_count": 303,
   "metadata": {
    "collapsed": false
   },
   "outputs": [
    {
     "name": "stdout",
     "output_type": "stream",
     "text": [
      "Wall time: 2.48 s\n"
     ]
    }
   ],
   "source": [
    "%%time\n",
    "results = []\n",
    "for ticker in tickers[:20]:\n",
    "    sample = stocks_FF[ stocks_FF['stock'] == ticker ].copy()\n",
    "    sample['aret_3f'] = abnormal_returns(sample)\n",
    "    results.append( sample )\n",
    "\n",
    "result = pd.concat( results )"
   ]
  },
  {
   "cell_type": "code",
   "execution_count": 304,
   "metadata": {
    "collapsed": false
   },
   "outputs": [
    {
     "data": {
      "text/html": [
       "<div>\n",
       "<table border=\"1\" class=\"dataframe\">\n",
       "  <thead>\n",
       "    <tr style=\"text-align: right;\">\n",
       "      <th></th>\n",
       "      <th>stock</th>\n",
       "      <th>date</th>\n",
       "      <th>close</th>\n",
       "      <th>turnover</th>\n",
       "      <th>cap</th>\n",
       "      <th>ret</th>\n",
       "      <th>MKT</th>\n",
       "      <th>SMB</th>\n",
       "      <th>HML</th>\n",
       "      <th>rf</th>\n",
       "      <th>xret</th>\n",
       "      <th>aret_3f</th>\n",
       "    </tr>\n",
       "  </thead>\n",
       "  <tbody>\n",
       "    <tr>\n",
       "      <th>11</th>\n",
       "      <td>1301.T</td>\n",
       "      <td>2013-01-04</td>\n",
       "      <td>195.0</td>\n",
       "      <td>1573.895299</td>\n",
       "      <td>21310.185</td>\n",
       "      <td>0.005155</td>\n",
       "      <td>0.0213</td>\n",
       "      <td>-1.06</td>\n",
       "      <td>1.14</td>\n",
       "      <td>0.0</td>\n",
       "      <td>0.005155</td>\n",
       "      <td>0.001527</td>\n",
       "    </tr>\n",
       "    <tr>\n",
       "      <th>136</th>\n",
       "      <td>1301.T</td>\n",
       "      <td>2013-01-07</td>\n",
       "      <td>195.0</td>\n",
       "      <td>1482.389759</td>\n",
       "      <td>21310.185</td>\n",
       "      <td>0.000000</td>\n",
       "      <td>-0.0029</td>\n",
       "      <td>1.52</td>\n",
       "      <td>-0.90</td>\n",
       "      <td>0.0</td>\n",
       "      <td>0.000000</td>\n",
       "      <td>-0.009997</td>\n",
       "    </tr>\n",
       "    <tr>\n",
       "      <th>210</th>\n",
       "      <td>1301.T</td>\n",
       "      <td>2013-01-08</td>\n",
       "      <td>195.0</td>\n",
       "      <td>1180.421475</td>\n",
       "      <td>21310.185</td>\n",
       "      <td>0.000000</td>\n",
       "      <td>-0.0006</td>\n",
       "      <td>0.65</td>\n",
       "      <td>-0.85</td>\n",
       "      <td>0.0</td>\n",
       "      <td>0.000000</td>\n",
       "      <td>-0.005855</td>\n",
       "    </tr>\n",
       "    <tr>\n",
       "      <th>257</th>\n",
       "      <td>1301.T</td>\n",
       "      <td>2013-01-09</td>\n",
       "      <td>195.0</td>\n",
       "      <td>1134.668704</td>\n",
       "      <td>21310.185</td>\n",
       "      <td>0.000000</td>\n",
       "      <td>-0.0016</td>\n",
       "      <td>0.35</td>\n",
       "      <td>0.26</td>\n",
       "      <td>0.0</td>\n",
       "      <td>0.000000</td>\n",
       "      <td>-0.000536</td>\n",
       "    </tr>\n",
       "    <tr>\n",
       "      <th>308</th>\n",
       "      <td>1301.T</td>\n",
       "      <td>2013-01-10</td>\n",
       "      <td>195.0</td>\n",
       "      <td>1683.701948</td>\n",
       "      <td>21310.185</td>\n",
       "      <td>0.000000</td>\n",
       "      <td>0.0012</td>\n",
       "      <td>-0.52</td>\n",
       "      <td>0.60</td>\n",
       "      <td>0.0</td>\n",
       "      <td>0.000000</td>\n",
       "      <td>0.004036</td>\n",
       "    </tr>\n",
       "  </tbody>\n",
       "</table>\n",
       "</div>"
      ],
      "text/plain": [
       "      stock       date  close     turnover        cap       ret     MKT   SMB  \\\n",
       "11   1301.T 2013-01-04  195.0  1573.895299  21310.185  0.005155  0.0213 -1.06   \n",
       "136  1301.T 2013-01-07  195.0  1482.389759  21310.185  0.000000 -0.0029  1.52   \n",
       "210  1301.T 2013-01-08  195.0  1180.421475  21310.185  0.000000 -0.0006  0.65   \n",
       "257  1301.T 2013-01-09  195.0  1134.668704  21310.185  0.000000 -0.0016  0.35   \n",
       "308  1301.T 2013-01-10  195.0  1683.701948  21310.185  0.000000  0.0012 -0.52   \n",
       "\n",
       "      HML   rf      xret   aret_3f  \n",
       "11   1.14  0.0  0.005155  0.001527  \n",
       "136 -0.90  0.0  0.000000 -0.009997  \n",
       "210 -0.85  0.0  0.000000 -0.005855  \n",
       "257  0.26  0.0  0.000000 -0.000536  \n",
       "308  0.60  0.0  0.000000  0.004036  "
      ]
     },
     "execution_count": 304,
     "metadata": {},
     "output_type": "execute_result"
    }
   ],
   "source": [
    "result.head()"
   ]
  },
  {
   "cell_type": "markdown",
   "metadata": {},
   "source": [
    "<div class='alert alert-info'>\n",
    "So, we have 2000 securities and it takes 3 seconds for only  20 of them. \n",
    "<br/>\n",
    "Thus it would take at least 5 minutes to do it for all the stocks... too long... <bold>:-/</bold>\n",
    "<br/>\n",
    "<h2>Let's do it in parallel!</h2>\n",
    "</div>"
   ]
  },
  {
   "cell_type": "markdown",
   "metadata": {},
   "source": [
    "#### Remember, we have our data already splitted by stock on the clusters\n",
    "But we need to define our function there, and also send the FF-factors"
   ]
  },
  {
   "cell_type": "code",
   "execution_count": 308,
   "metadata": {
    "collapsed": false
   },
   "outputs": [
    {
     "data": {
      "text/plain": [
       "<AsyncResult: _push>"
      ]
     },
     "execution_count": 308,
     "metadata": {},
     "output_type": "execute_result"
    }
   ],
   "source": [
    "client[:].push( {'FF':FF } )"
   ]
  },
  {
   "cell_type": "code",
   "execution_count": 312,
   "metadata": {
    "collapsed": true
   },
   "outputs": [],
   "source": [
    "%%px\n",
    "\n",
    "stocks_FF = stocks.merge( FF, on='date', how='left' ).dropna()\n",
    "\n",
    "def abnormal_returns( sample, mkt_only=False ):\n",
    "    sample['xret'] = sample['ret'] - sample['rf']\n",
    "    sample.dropna(inplace=1)\n",
    "    y = sample['xret']\n",
    "    if mkt_only:  x = sample['MKT']\n",
    "    else:         x = sample[['MKT', 'SMB', 'HML']]\n",
    "    reg = sm.OLS( y, x ).fit()\n",
    "    return reg.resid\n",
    "\n",
    "def compute_abnormal_returns():\n",
    "    results = []\n",
    "    for ticker in tickers:\n",
    "        try:\n",
    "            sample = stocks_FF[ stocks_FF['stock'] == ticker ].copy()\n",
    "            sample['aret_3f'] = abnormal_returns(sample)\n",
    "            results.append( sample )\n",
    "        except:\n",
    "            pass  # Some weird error happens for a bunch of stocks\n",
    "\n",
    "    result = pd.concat( results )\n",
    "    return results"
   ]
  },
  {
   "cell_type": "code",
   "execution_count": 313,
   "metadata": {
    "collapsed": false,
    "scrolled": false
   },
   "outputs": [
    {
     "name": "stdout",
     "output_type": "stream",
     "text": [
      "Wall time: 59.4 s\n"
     ]
    }
   ],
   "source": [
    "%%time\n",
    "%px results = compute_abnormal_returns()"
   ]
  },
  {
   "cell_type": "markdown",
   "metadata": {},
   "source": [
    "<div class='alert alert-success'>\n",
    "Less than 1 minute using 24 cores. Not bad :-)\n",
    "</div>"
   ]
  },
  {
   "cell_type": "markdown",
   "metadata": {},
   "source": [
    "#### Gather results from the clusters"
   ]
  },
  {
   "cell_type": "code",
   "execution_count": 314,
   "metadata": {
    "collapsed": false,
    "scrolled": true
   },
   "outputs": [
    {
     "data": {
      "text/html": [
       "<div>\n",
       "<table border=\"1\" class=\"dataframe\">\n",
       "  <thead>\n",
       "    <tr style=\"text-align: right;\">\n",
       "      <th></th>\n",
       "      <th>stock</th>\n",
       "      <th>date</th>\n",
       "      <th>close</th>\n",
       "      <th>turnover</th>\n",
       "      <th>cap</th>\n",
       "      <th>ret</th>\n",
       "      <th>MKT</th>\n",
       "      <th>SMB</th>\n",
       "      <th>HML</th>\n",
       "      <th>rf</th>\n",
       "      <th>xret</th>\n",
       "      <th>aret_3f</th>\n",
       "    </tr>\n",
       "  </thead>\n",
       "  <tbody>\n",
       "    <tr>\n",
       "      <th>11</th>\n",
       "      <td>1301.T</td>\n",
       "      <td>2013-01-04</td>\n",
       "      <td>195.0</td>\n",
       "      <td>1573.895299</td>\n",
       "      <td>21310.185</td>\n",
       "      <td>0.005155</td>\n",
       "      <td>0.0213</td>\n",
       "      <td>-1.06</td>\n",
       "      <td>1.14</td>\n",
       "      <td>0.0</td>\n",
       "      <td>0.005155</td>\n",
       "      <td>0.001527</td>\n",
       "    </tr>\n",
       "    <tr>\n",
       "      <th>136</th>\n",
       "      <td>1301.T</td>\n",
       "      <td>2013-01-07</td>\n",
       "      <td>195.0</td>\n",
       "      <td>1482.389759</td>\n",
       "      <td>21310.185</td>\n",
       "      <td>0.000000</td>\n",
       "      <td>-0.0029</td>\n",
       "      <td>1.52</td>\n",
       "      <td>-0.90</td>\n",
       "      <td>0.0</td>\n",
       "      <td>0.000000</td>\n",
       "      <td>-0.009997</td>\n",
       "    </tr>\n",
       "    <tr>\n",
       "      <th>210</th>\n",
       "      <td>1301.T</td>\n",
       "      <td>2013-01-08</td>\n",
       "      <td>195.0</td>\n",
       "      <td>1180.421475</td>\n",
       "      <td>21310.185</td>\n",
       "      <td>0.000000</td>\n",
       "      <td>-0.0006</td>\n",
       "      <td>0.65</td>\n",
       "      <td>-0.85</td>\n",
       "      <td>0.0</td>\n",
       "      <td>0.000000</td>\n",
       "      <td>-0.005855</td>\n",
       "    </tr>\n",
       "    <tr>\n",
       "      <th>257</th>\n",
       "      <td>1301.T</td>\n",
       "      <td>2013-01-09</td>\n",
       "      <td>195.0</td>\n",
       "      <td>1134.668704</td>\n",
       "      <td>21310.185</td>\n",
       "      <td>0.000000</td>\n",
       "      <td>-0.0016</td>\n",
       "      <td>0.35</td>\n",
       "      <td>0.26</td>\n",
       "      <td>0.0</td>\n",
       "      <td>0.000000</td>\n",
       "      <td>-0.000536</td>\n",
       "    </tr>\n",
       "    <tr>\n",
       "      <th>308</th>\n",
       "      <td>1301.T</td>\n",
       "      <td>2013-01-10</td>\n",
       "      <td>195.0</td>\n",
       "      <td>1683.701948</td>\n",
       "      <td>21310.185</td>\n",
       "      <td>0.000000</td>\n",
       "      <td>0.0012</td>\n",
       "      <td>-0.52</td>\n",
       "      <td>0.60</td>\n",
       "      <td>0.0</td>\n",
       "      <td>0.000000</td>\n",
       "      <td>0.004036</td>\n",
       "    </tr>\n",
       "  </tbody>\n",
       "</table>\n",
       "</div>"
      ],
      "text/plain": [
       "      stock       date  close     turnover        cap       ret     MKT   SMB  \\\n",
       "11   1301.T 2013-01-04  195.0  1573.895299  21310.185  0.005155  0.0213 -1.06   \n",
       "136  1301.T 2013-01-07  195.0  1482.389759  21310.185  0.000000 -0.0029  1.52   \n",
       "210  1301.T 2013-01-08  195.0  1180.421475  21310.185  0.000000 -0.0006  0.65   \n",
       "257  1301.T 2013-01-09  195.0  1134.668704  21310.185  0.000000 -0.0016  0.35   \n",
       "308  1301.T 2013-01-10  195.0  1683.701948  21310.185  0.000000  0.0012 -0.52   \n",
       "\n",
       "      HML   rf      xret   aret_3f  \n",
       "11   1.14  0.0  0.005155  0.001527  \n",
       "136 -0.90  0.0  0.000000 -0.009997  \n",
       "210 -0.85  0.0  0.000000 -0.005855  \n",
       "257  0.26  0.0  0.000000 -0.000536  \n",
       "308  0.60  0.0  0.000000  0.004036  "
      ]
     },
     "execution_count": 314,
     "metadata": {},
     "output_type": "execute_result"
    }
   ],
   "source": [
    "results = pd.concat( client[:].gather( 'results' ).get() )\n",
    "results.head()"
   ]
  },
  {
   "cell_type": "markdown",
   "metadata": {},
   "source": [
    "<br/><br/><br/><br/>"
   ]
  },
  {
   "cell_type": "markdown",
   "metadata": {},
   "source": [
    "# Plots"
   ]
  },
  {
   "cell_type": "code",
   "execution_count": 320,
   "metadata": {
    "collapsed": false
   },
   "outputs": [
    {
     "data": {
      "text/plain": [
       "<matplotlib.axes._subplots.AxesSubplot at 0x62eef620f0>"
      ]
     },
     "execution_count": 320,
     "metadata": {},
     "output_type": "execute_result"
    },
    {
     "data": {
      "image/png": "[encoded data removed]",
      "text/plain": [
       "<matplotlib.figure.Figure at 0x62eefb04a8>"
      ]
     },
     "metadata": {},
     "output_type": "display_data"
    }
   ],
   "source": [
    "%matplotlib inline\n",
    "import seaborn\n",
    "\n",
    "results.groupby('date')['aret_3f'].mean().cumsum().plot( figsize=(16,8) )"
   ]
  },
  {
   "cell_type": "markdown",
   "metadata": {},
   "source": [
    "<br/><br/><br/><br/>"
   ]
  }
 ],
 "metadata": {
  "anaconda-cloud": {},
  "kernelspec": {
   "display_name": "Python [Root]",
   "language": "python",
   "name": "Python [Root]"
  },
  "language_info": {
   "codemirror_mode": {
    "name": "ipython",
    "version": 3
   },
   "file_extension": ".py",
   "mimetype": "text/x-python",
   "name": "python",
   "nbconvert_exporter": "python",
   "pygments_lexer": "ipython3",
   "version": "3.5.2"
  }
 },
 "nbformat": 4,
 "nbformat_minor": 0
}
